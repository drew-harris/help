{
 "cells": [
  {
   "cell_type": "code",
   "execution_count": 205,
   "outputs": [],
   "source": [
    "import pandas as pd\n",
    "\n",
    "df = pd.read_csv('data.csv')"
   ],
   "metadata": {
    "collapsed": false,
    "ExecuteTime": {
     "end_time": "2023-10-29T23:29:17.541609Z",
     "start_time": "2023-10-29T23:29:17.374338Z"
    }
   },
   "id": "97c16df46281e13b"
  },
  {
   "cell_type": "code",
   "execution_count": 206,
   "outputs": [],
   "source": [
    "# Remove rows with missing values\n",
    "df.dropna(inplace=True)\n",
    "# Drop the TractId column as it is not needed\n",
    "df.drop(['TractId'], axis=1, inplace=True)\n",
    "df.drop(['County'], axis=1, inplace=True)"
   ],
   "metadata": {
    "collapsed": false,
    "ExecuteTime": {
     "end_time": "2023-10-29T23:29:17.570182Z",
     "start_time": "2023-10-29T23:29:17.544236Z"
    }
   },
   "id": "44a18712c3631780"
  },
  {
   "cell_type": "code",
   "execution_count": 207,
   "outputs": [
    {
     "name": "stdout",
     "output_type": "stream",
     "text": [
      "   State  TotalPop   Men  Women  Hispanic  White  Black  Native  Asian  \\\n",
      "0      0      1192   673    745        24    863     52       0     12   \n",
      "1      0      1519   941    804        11    416    545       0     10   \n",
      "2      0      2732  1307   1651        80    614    265       6      7   \n",
      "3      0      3614  1775   2065        96    803     71       5      2   \n",
      "4      0      8670  4689   4624         9    775    164       0     31   \n",
      "5      0      2967  1539   1654        30    707    251       0      0   \n",
      "6      0      2767  1233   1760        40    780    137       6      0   \n",
      "7      0      2260  1269   1217        42    863     71      15      0   \n",
      "8      0      9101  4930   5154        14    818    153       0     10   \n",
      "9      0      5514  2885   2855        10    862     97       8      3   \n",
      "\n",
      "   Pacific  ...  Walk  OtherTransp  WorkAtHome  MeanCommute  Employed  \\\n",
      "0        0  ...     5            0          21          189       781   \n",
      "1        0  ...     0            5           0          166       752   \n",
      "2        4  ...    10            8          15          175      1382   \n",
      "3        0  ...    15           29          21          203      1749   \n",
      "4        0  ...     8            3           7          154      4628   \n",
      "5        0  ...     7           35          80          155      1264   \n",
      "6        0  ...     0            0           0          108      1318   \n",
      "7        0  ...     0            7          52          190      1269   \n",
      "8        0  ...     0            0          22          218      4690   \n",
      "9        0  ...     0           50          59          300      2681   \n",
      "\n",
      "   PrivateWork  PublicWork  SelfEmployed  FamilyWork  Unemployment  \n",
      "0          424         211            45           0            46  \n",
      "1          441         149            90           0            34  \n",
      "2          415         210            48           7            47  \n",
      "3          440         196            45           0            61  \n",
      "4          396         240            45           0            23  \n",
      "5          522         140            19           0            61  \n",
      "6          456         175            50           0           169  \n",
      "7          409         174            88          10            72  \n",
      "8          383         224            74           0            22  \n",
      "9          486         144            50           0            68  \n",
      "\n",
      "[10 rows x 35 columns]\n"
     ]
    }
   ],
   "source": [
    "# Encode strings to integers\n",
    "from sklearn.preprocessing import LabelEncoder\n",
    "df = df.apply(LabelEncoder().fit_transform)\n",
    "\n",
    "print(df.head(10))"
   ],
   "metadata": {
    "collapsed": false,
    "ExecuteTime": {
     "end_time": "2023-10-29T23:29:17.707697Z",
     "start_time": "2023-10-29T23:29:17.575197Z"
    }
   },
   "id": "b18b11218c83da95"
  },
  {
   "cell_type": "code",
   "execution_count": 208,
   "outputs": [
    {
     "name": "stdout",
     "output_type": "stream",
     "text": [
      "   State  TotalPop   Men  Women  Hispanic  White  Black  Native  Asian  \\\n",
      "0      0      1192   673    745        24    863     52       0     12   \n",
      "1      0      1519   941    804        11    416    545       0     10   \n",
      "2      0      2732  1307   1651        80    614    265       6      7   \n",
      "3      0      3614  1775   2065        96    803     71       5      2   \n",
      "4      0      8670  4689   4624         9    775    164       0     31   \n",
      "5      0      2967  1539   1654        30    707    251       0      0   \n",
      "6      0      2767  1233   1760        40    780    137       6      0   \n",
      "7      0      2260  1269   1217        42    863     71      15      0   \n",
      "8      0      9101  4930   5154        14    818    153       0     10   \n",
      "9      0      5514  2885   2855        10    862     97       8      3   \n",
      "\n",
      "   Pacific  ...  Walk  OtherTransp  WorkAtHome  MeanCommute  Employed  \\\n",
      "0        0  ...     5            0          21          189       781   \n",
      "1        0  ...     0            5           0          166       752   \n",
      "2        4  ...    10            8          15          175      1382   \n",
      "3        0  ...    15           29          21          203      1749   \n",
      "4        0  ...     8            3           7          154      4628   \n",
      "5        0  ...     7           35          80          155      1264   \n",
      "6        0  ...     0            0           0          108      1318   \n",
      "7        0  ...     0            7          52          190      1269   \n",
      "8        0  ...     0            0          22          218      4690   \n",
      "9        0  ...     0           50          59          300      2681   \n",
      "\n",
      "   PrivateWork  PublicWork  SelfEmployed  FamilyWork  Unemployment  \n",
      "0          424         211            45           0            46  \n",
      "1          441         149            90           0            34  \n",
      "2          415         210            48           7            47  \n",
      "3          440         196            45           0            61  \n",
      "4          396         240            45           0            23  \n",
      "5          522         140            19           0            61  \n",
      "6          456         175            50           0           169  \n",
      "7          409         174            88          10            72  \n",
      "8          383         224            74           0            22  \n",
      "9          486         144            50           0            68  \n",
      "\n",
      "[10 rows x 35 columns]\n"
     ]
    }
   ],
   "source": [
    "# Divide the rows into 4 groups, with equal number of rows in each group based on the values in the column 'ChildPoverty'. And encode the child poverty value to either be 0, 1, 2, or 3.\n",
    "df['ChildPoverty'] = pd.qcut(df['ChildPoverty'], 4, labels=False)\n",
    "print(df.head(10))"
   ],
   "metadata": {
    "collapsed": false,
    "ExecuteTime": {
     "end_time": "2023-10-29T23:29:17.717322Z",
     "start_time": "2023-10-29T23:29:17.707860Z"
    }
   },
   "id": "6bd5cea07335d8d3"
  },
  {
   "cell_type": "code",
   "execution_count": 209,
   "outputs": [
    {
     "name": "stdout",
     "output_type": "stream",
     "text": [
      "18229\n",
      "18171\n",
      "18148\n",
      "18170\n",
      "0\n"
     ]
    }
   ],
   "source": [
    "print(len(df.loc[df['ChildPoverty'] == 0]))\n",
    "print(len(df.loc[df['ChildPoverty'] == 1]))\n",
    "print(len(df.loc[df['ChildPoverty'] == 2]))\n",
    "print(len(df.loc[df['ChildPoverty'] == 3]))\n",
    "print(len(df.loc[df['ChildPoverty'] == 4]))"
   ],
   "metadata": {
    "collapsed": false,
    "ExecuteTime": {
     "end_time": "2023-10-29T23:29:17.775540Z",
     "start_time": "2023-10-29T23:29:17.721563Z"
    }
   },
   "id": "e684a7f67c6d45b8"
  },
  {
   "cell_type": "code",
   "execution_count": 210,
   "outputs": [],
   "source": [
    "# Split the data into features and labels\n",
    "X = df.drop(['ChildPoverty'], axis=1)\n",
    "y = df['ChildPoverty']\n",
    "\n",
    "# Normalize the data\n",
    "from sklearn.preprocessing import StandardScaler\n",
    "scaler = StandardScaler()\n",
    "X_norm = scaler.fit_transform(X)\n",
    "\n",
    "# Split the data into training and testing sets\n",
    "from sklearn.model_selection import train_test_split\n",
    "X_train_frame, X_test_frame, y_train_frame, y_test_frame = \\\n",
    "    train_test_split(X_norm, y, test_size=0.2, random_state=1)\n",
    "\n",
    "# Convert the dataframes to numpy arrays\n",
    "X_train = X_train_frame\n",
    "X_test = X_test_frame\n",
    "y_train = y_train_frame\n",
    "y_test = y_test_frame"
   ],
   "metadata": {
    "collapsed": false,
    "ExecuteTime": {
     "end_time": "2023-10-29T23:29:17.783839Z",
     "start_time": "2023-10-29T23:29:17.739737Z"
    }
   },
   "id": "4db5ac2eb24b53bf"
  },
  {
   "cell_type": "code",
   "execution_count": 211,
   "outputs": [
    {
     "name": "stdout",
     "output_type": "stream",
     "text": [
      "(58174, 34)\n",
      "(14544, 34)\n",
      "(58174,)\n",
      "(14544,)\n"
     ]
    }
   ],
   "source": [
    "print(X_train.shape)\n",
    "print(X_test.shape)\n",
    "print(y_train.shape)\n",
    "print(y_test.shape)"
   ],
   "metadata": {
    "collapsed": false,
    "ExecuteTime": {
     "end_time": "2023-10-29T23:29:17.785128Z",
     "start_time": "2023-10-29T23:29:17.783263Z"
    }
   },
   "id": "c6b2ff6856418d5e"
  },
  {
   "cell_type": "code",
   "execution_count": 212,
   "outputs": [],
   "source": [
    "# Create the model\n",
    "\n",
    "import numpy as np\n",
    "from scipy.special import expit\n",
    "import sys\n",
    "import pandas as pd\n",
    "\n",
    "# start with a simple base classifier, which can't be fit or predicted\n",
    "# it only has internal classes to be used by classes that will subclass it\n",
    "# Start with the following functions:\n",
    "#    init\n",
    "#    encode_labels\n",
    "#    initialize weights\n",
    "#    sigmoid\n",
    "#    add bias (vector of ones)\n",
    "#    objective function (cost and regularizer)\n",
    "class TwoLayerPerceptronBase(object):\n",
    "    def __init__(self, n_hidden=30,\n",
    "                 C=0.0, epochs=500, eta=0.001, random_state=None):\n",
    "        np.random.seed(random_state)\n",
    "        \n",
    "        self.n_hidden = n_hidden\n",
    "        self.l2_C = C\n",
    "        self.epochs = epochs\n",
    "        self.eta = eta\n",
    "        \n",
    "    @staticmethod\n",
    "    def _encode_labels(y):\n",
    "        \"\"\"Encode labels into one-hot representation\"\"\"\n",
    "        onehot = pd.get_dummies(y).values.T\n",
    "            \n",
    "        return onehot\n",
    "\n",
    "    def _initialize_weights(self):\n",
    "        \"\"\"Initialize weights with small random numbers.\"\"\"\n",
    "        W1_num_elems = (self.n_features_)*self.n_hidden\n",
    "        W1 = np.random.uniform(-1.0, 1.0, size=W1_num_elems)\n",
    "        W1 = W1.reshape(self.n_hidden, self.n_features_) # reshape to be W\n",
    "        b1 = np.zeros((self.n_hidden, 1))\n",
    "        \n",
    "        W2_num_elems = (self.n_hidden)*self.n_output_\n",
    "        W2 = np.random.uniform(-1.0, 1.0, size=W2_num_elems)\n",
    "        W2 = W2.reshape(self.n_output_, self.n_hidden)\n",
    "        b2 = np.zeros((self.n_output_, 1))\n",
    "        \n",
    "        return W1, W2, b1, b2\n",
    "    \n",
    "    @staticmethod\n",
    "    def _sigmoid(z):\n",
    "        \"\"\"Use scipy.special.expit to avoid overflow\"\"\"\n",
    "        # 1.0 / (1.0 + np.exp(-z))\n",
    "        return expit(z)\n",
    "    \n",
    "    \n",
    "    @staticmethod\n",
    "    def _L2_reg(lambda_, W1, W2):\n",
    "        \"\"\"Compute L2-regularization cost\"\"\"\n",
    "        # only compute for non-bias terms\n",
    "        return (lambda_) * np.sqrt(np.mean(W1 ** 2) + np.mean(W2 ** 2))\n",
    "    \n",
    "    def _cost(self,A3,Y_enc,W1,W2):\n",
    "        '''Get the objective function value'''\n",
    "        cost = np.mean((Y_enc-A3)**2)\n",
    "        L2_term = self._L2_reg(self.l2_C, W1, W2)\n",
    "        return cost + L2_term\n",
    "    "
   ],
   "metadata": {
    "collapsed": false,
    "ExecuteTime": {
     "end_time": "2023-10-29T23:29:17.790691Z",
     "start_time": "2023-10-29T23:29:17.788847Z"
    }
   },
   "id": "2588fe8852bf5225"
  },
  {
   "cell_type": "code",
   "execution_count": 213,
   "outputs": [],
   "source": [
    "class TwoLayerPerceptron(TwoLayerPerceptronBase):\n",
    "    def _feedforward(self, X, W1, W2, b1, b2):\n",
    "        \"\"\"Compute feedforward step\n",
    "        -----------\n",
    "        X : Input layer with original features.\n",
    "        W1: Weight matrix for input layer -> hidden layer.\n",
    "        W2: Weight matrix for hidden layer -> output layer.\n",
    "        ----------\n",
    "        a1-a3 : activations into layer (or output layer)\n",
    "        z1-z2 : layer inputs \n",
    "\n",
    "        \"\"\"\n",
    "        A1 = X.T\n",
    "        Z1 = W1 @ A1 + b1\n",
    "        A2 = self._sigmoid(Z1)\n",
    "        Z2 = W2 @ A2 + b2\n",
    "        A3 = self._sigmoid(Z2)\n",
    "        return A1, Z1, A2, Z2, A3\n",
    "    \n",
    "    def _get_gradient(self, A1, A2, A3, Z1, Z2, Y_enc, W1, W2):\n",
    "        \"\"\" Compute gradient step using backpropagation.\n",
    "        \"\"\"\n",
    "        # vectorized backpropagation\n",
    "        V2 = -2*(Y_enc-A3)*A3*(1-A3)\n",
    "        V1 = A2*(1-A2)*(W2.T @ V2)\n",
    "        \n",
    "        gradW2 = V2 @ A2.T\n",
    "        gradW1 = V1 @ A1.T\n",
    "        \n",
    "        gradb2 = np.sum(V2, axis=1).reshape((-1,1))\n",
    "        gradb1 = np.sum(V1, axis=1).reshape((-1,1))\n",
    "        \n",
    "        \n",
    "        # regularize weights that are not bias terms\n",
    "        gradW1 += W1 * self.l2_C * 2\n",
    "        gradW2 += W2 * self.l2_C * 2 \n",
    "\n",
    "        return gradW1, gradW2, gradb1, gradb2\n",
    "    \n",
    "    def predict(self, X):\n",
    "        \"\"\"Predict class labels\"\"\"\n",
    "        _, _, _, _, A3 = self._feedforward(X, self.W1, self.W2, self.b1, self.b2)\n",
    "        y_pred = np.argmax(A3, axis=0)\n",
    "        return y_pred\n",
    "    \n",
    "    \n",
    "    def fit(self, X, y, print_progress=False):\n",
    "        \"\"\" Learn weights from training data.\"\"\"\n",
    "        \n",
    "        X_data, y_data = X.copy(), y.copy()\n",
    "        Y_enc = self._encode_labels(y)\n",
    "        \n",
    "        # init weights and setup matrices\n",
    "        self.n_features_ = X_data.shape[1]\n",
    "        self.n_output_ = Y_enc.shape[0]\n",
    "        self.W1, self.W2, self.b1, self.b2 = self._initialize_weights()\n",
    "\n",
    "        self.cost_ = []\n",
    "        for i in range(self.epochs):\n",
    "\n",
    "            if print_progress>0 and (i+1)%print_progress==0:\n",
    "                sys.stderr.write('\\rEpoch: %d/%d' % (i+1, self.epochs))\n",
    "                sys.stderr.flush()\n",
    "\n",
    "            # feedforward all instances\n",
    "            A1, Z1, A2, Z2, A3 = self._feedforward(X_data,self.W1,self.W2, self.b1, self.b2)\n",
    "            \n",
    "            cost = self._cost(A3,Y_enc,self.W1,self.W2)\n",
    "            self.cost_.append(cost)\n",
    "\n",
    "            # compute gradient via backpropagation\n",
    "            gradW1, gradW2, gradb1, gradb2 = self._get_gradient(A1=A1, A2=A2, A3=A3, Z1=Z1, Z2=Z2, Y_enc=Y_enc,\n",
    "                                              W1=self.W1, W2=self.W2)\n",
    "\n",
    "            self.W1 -= self.eta * gradW1\n",
    "            self.W2 -= self.eta * gradW2\n",
    "            self.b1 -= self.eta * gradb1\n",
    "            self.b2 -= self.eta * gradb2\n",
    "            \n",
    "\n",
    "        return self"
   ],
   "metadata": {
    "collapsed": false,
    "ExecuteTime": {
     "end_time": "2023-10-29T23:29:17.834167Z",
     "start_time": "2023-10-29T23:29:17.795608Z"
    }
   },
   "id": "5d199c0abc3569fa"
  },
  {
   "cell_type": "code",
   "execution_count": 214,
   "outputs": [
    {
     "name": "stderr",
     "output_type": "stream",
     "text": [
      "Epoch: 400/400"
     ]
    },
    {
     "name": "stdout",
     "output_type": "stream",
     "text": [
      "Accuracy: 0.3140814081408141\n"
     ]
    }
   ],
   "source": [
    "from sklearn.metrics import accuracy_score\n",
    "\n",
    "params = dict(n_hidden=50, \n",
    "              C=0.1, # tradeoff L2 regularizer\n",
    "              epochs=400, # iterations\n",
    "              eta=0.001,  # learning rate\n",
    "              random_state=1)\n",
    "\n",
    "nn = TwoLayerPerceptron(**params)\n",
    "\n",
    "nn.fit(X_train, y_train, print_progress=50)\n",
    "yhat = nn.predict(X_test)\n",
    "print('Accuracy:',accuracy_score(y_test,yhat))\n"
   ],
   "metadata": {
    "collapsed": false,
    "ExecuteTime": {
     "end_time": "2023-10-29T23:29:52.127500Z",
     "start_time": "2023-10-29T23:29:17.798209Z"
    }
   },
   "id": "da070963d0b33027"
  },
  {
   "cell_type": "code",
   "execution_count": 215,
   "outputs": [
    {
     "data": {
      "text/plain": "<Figure size 640x480 with 1 Axes>",
      "image/png": "[encoded data removed]"
     },
     "metadata": {},
     "output_type": "display_data"
    }
   ],
   "source": [
    "from matplotlib import pyplot as plt\n",
    "\n",
    "plt.plot(range(len(nn.cost_)), nn.cost_)\n",
    "plt.ylabel('Cost')\n",
    "plt.xlabel('Epochs')\n",
    "plt.tight_layout()\n",
    "plt.show()"
   ],
   "metadata": {
    "collapsed": false,
    "ExecuteTime": {
     "end_time": "2023-10-29T23:29:52.294274Z",
     "start_time": "2023-10-29T23:29:52.210885Z"
    }
   },
   "id": "810d074a98698881"
  },
  {
   "cell_type": "code",
   "execution_count": 216,
   "outputs": [],
   "source": [
    "# Normalize the data\n",
    "from sklearn.preprocessing import StandardScaler\n",
    "scaler = StandardScaler()\n",
    "X_train_norm = scaler.fit_transform(X_train)\n",
    "X_test_norm = scaler.transform(X_test)\n"
   ],
   "metadata": {
    "collapsed": false,
    "ExecuteTime": {
     "end_time": "2023-10-29T23:29:52.339600Z",
     "start_time": "2023-10-29T23:29:52.300367Z"
    }
   },
   "id": "1ddf8740e7347725"
  },
  {
   "cell_type": "code",
   "execution_count": 217,
   "outputs": [
    {
     "name": "stderr",
     "output_type": "stream",
     "text": [
      "Epoch: 400/400"
     ]
    },
    {
     "name": "stdout",
     "output_type": "stream",
     "text": [
      "Accuracy: 0.3169004400440044\n"
     ]
    }
   ],
   "source": [
    "from sklearn.metrics import accuracy_score\n",
    "\n",
    "params = dict(n_hidden=50, \n",
    "              C=0.1, # tradeoff L2 regularizer\n",
    "              epochs=400, # iterations\n",
    "              eta=0.001,  # learning rate\n",
    "              random_state=1)\n",
    "\n",
    "nn = TwoLayerPerceptron(**params)\n",
    "\n",
    "nn.fit(X_train_norm, y_train, print_progress=50)\n",
    "yhat = nn.predict(X_test_norm)\n",
    "print('Accuracy:',accuracy_score(y_test,yhat))"
   ],
   "metadata": {
    "collapsed": false,
    "ExecuteTime": {
     "end_time": "2023-10-29T23:30:33.461024Z",
     "start_time": "2023-10-29T23:29:52.328857Z"
    }
   },
   "id": "550910d4ad572752"
  },
  {
   "cell_type": "code",
   "execution_count": 218,
   "outputs": [],
   "source": [
    "# Use one hot encoding for the labels"
   ],
   "metadata": {
    "collapsed": false,
    "ExecuteTime": {
     "end_time": "2023-10-29T23:30:33.476651Z",
     "start_time": "2023-10-29T23:30:33.474034Z"
    }
   },
   "id": "ca16757082994bb8"
  },
  {
   "cell_type": "code",
   "execution_count": 219,
   "outputs": [
    {
     "name": "stdout",
     "output_type": "stream",
     "text": [
      "Index(['State', 'TotalPop', 'Men', 'Women', 'Hispanic', 'White', 'Black',\n",
      "       'Native', 'Asian', 'Pacific', 'VotingAgeCitizen', 'Income', 'IncomeErr',\n",
      "       'IncomePerCap', 'IncomePerCapErr', 'Poverty', 'Professional', 'Service',\n",
      "       'Office', 'Construction', 'Production', 'Drive', 'Carpool', 'Transit',\n",
      "       'Walk', 'OtherTransp', 'WorkAtHome', 'MeanCommute', 'Employed',\n",
      "       'PrivateWork', 'PublicWork', 'SelfEmployed', 'FamilyWork',\n",
      "       'Unemployment'],\n",
      "      dtype='object')\n"
     ]
    }
   ],
   "source": [
    "# Print the column names\n",
    "print(X.columns)"
   ],
   "metadata": {
    "collapsed": false,
    "ExecuteTime": {
     "end_time": "2023-10-29T23:30:33.632638Z",
     "start_time": "2023-10-29T23:30:33.477687Z"
    }
   },
   "id": "1f82b048b0c6cf56"
  },
  {
   "cell_type": "code",
   "execution_count": 220,
   "outputs": [],
   "source": [
    "# One hot encode the labels\n",
    "def encode_and_bind(original_dataframe, feature_to_encode):\n",
    "    dummies = pd.get_dummies(original_dataframe[[feature_to_encode]])\n",
    "    res = pd.concat([original_dataframe, dummies], axis=1)\n",
    "    res = res.drop([feature_to_encode], axis=1)\n",
    "    return(res)\n"
   ],
   "metadata": {
    "collapsed": false,
    "ExecuteTime": {
     "end_time": "2023-10-29T23:30:33.632825Z",
     "start_time": "2023-10-29T23:30:33.484743Z"
    }
   },
   "id": "d607c750ea409f23"
  },
  {
   "cell_type": "code",
   "execution_count": 221,
   "outputs": [],
   "source": [
    "encode_and_bind(X, 'State')\n",
    "\n",
    "# Normalize the data\n",
    "from sklearn.preprocessing import StandardScaler\n",
    "scaler = StandardScaler()\n",
    "X_norm = scaler.fit_transform(X)\n"
   ],
   "metadata": {
    "collapsed": false,
    "ExecuteTime": {
     "end_time": "2023-10-29T23:30:33.698732Z",
     "start_time": "2023-10-29T23:30:33.513027Z"
    }
   },
   "id": "86348654725246bb"
  },
  {
   "cell_type": "code",
   "execution_count": 222,
   "outputs": [
    {
     "name": "stdout",
     "output_type": "stream",
     "text": [
      "(58174, 34)\n",
      "(14544, 34)\n",
      "(58174,)\n",
      "(14544,)\n"
     ]
    }
   ],
   "source": [
    "from sklearn.model_selection import train_test_split\n",
    "\n",
    "X_train_frame, X_test_frame, y_train_frame, y_test_frame = \\\n",
    "    train_test_split(X_norm, y, test_size=0.2, random_state=1)\n",
    "\n",
    "# Convert the dataframes to numpy arrays\n",
    "X_train = X_train_frame\n",
    "X_test = X_test_frame\n",
    "y_train = y_train_frame\n",
    "y_test = y_test_frame\n",
    "print(X_train.shape)\n",
    "print(X_test.shape)\n",
    "print(y_train.shape)\n",
    "print(y_test.shape)\n"
   ],
   "metadata": {
    "collapsed": false,
    "ExecuteTime": {
     "end_time": "2023-10-29T23:30:33.710901Z",
     "start_time": "2023-10-29T23:30:33.679748Z"
    }
   },
   "id": "edb280b726d2d119"
  },
  {
   "cell_type": "code",
   "execution_count": 223,
   "outputs": [
    {
     "name": "stderr",
     "output_type": "stream",
     "text": [
      "Epoch: 400/400"
     ]
    },
    {
     "name": "stdout",
     "output_type": "stream",
     "text": [
      "Accuracy: 0.3140814081408141\n"
     ]
    }
   ],
   "source": [
    "from sklearn.metrics import accuracy_score\n",
    "\n",
    "params = dict(n_hidden=50, \n",
    "              C=0.1, # tradeoff L2 regularizer\n",
    "              epochs=400, # iterations\n",
    "              eta=0.001,  # learning rate\n",
    "              random_state=1)\n",
    "\n",
    "nn = TwoLayerPerceptron(**params)\n",
    "\n",
    "nn.fit(X_train, y_train, print_progress=50)\n",
    "yhat = nn.predict(X_test)\n",
    "print('Accuracy:',accuracy_score(y_test,yhat))\n",
    "\n"
   ],
   "metadata": {
    "collapsed": false,
    "ExecuteTime": {
     "end_time": "2023-10-29T23:31:08.986907Z",
     "start_time": "2023-10-29T23:30:33.708277Z"
    }
   },
   "id": "f2e0facc94d9314f"
  },
  {
   "cell_type": "code",
   "execution_count": 224,
   "outputs": [
    {
     "data": {
      "text/plain": "<Figure size 640x480 with 1 Axes>",
      "image/png": "[encoded data removed]"
     },
     "metadata": {},
     "output_type": "display_data"
    }
   ],
   "source": [
    "from matplotlib import pyplot as plt\n",
    "\n",
    "plt.plot(range(len(nn.cost_)), nn.cost_)\n",
    "plt.ylabel('Cost')\n",
    "plt.xlabel('Epochs')\n",
    "plt.tight_layout()\n",
    "plt.show()"
   ],
   "metadata": {
    "collapsed": false,
    "ExecuteTime": {
     "end_time": "2023-10-29T23:31:09.123587Z",
     "start_time": "2023-10-29T23:31:08.987534Z"
    }
   },
   "id": "c907bb32378db2d9"
  },
  {
   "cell_type": "code",
   "execution_count": 225,
   "outputs": [
    {
     "name": "stdout",
     "output_type": "stream",
     "text": [
      "Accuracy: 0.7418179317931793\n"
     ]
    }
   ],
   "source": [
    "# Try with scikit\n",
    "from sklearn.neural_network import MLPClassifier\n",
    "params = dict(hidden_layer_sizes=(30), \n",
    "              alpha=0.1, # tradeoff L2 regularizer\n",
    "              max_iter=400, # iterations\n",
    "              learning_rate_init=0.001,  # learning rate\n",
    "              random_state=1)\n",
    "\n",
    "nn = MLPClassifier(**params)\n",
    "\n",
    "nn.fit(X_train, y_train)\n",
    "\n",
    "yhat = nn.predict(X_test)\n",
    "\n",
    "print('Accuracy:',accuracy_score(y_test,yhat))"
   ],
   "metadata": {
    "collapsed": false,
    "ExecuteTime": {
     "end_time": "2023-10-29T23:31:15.215950Z",
     "start_time": "2023-10-29T23:31:09.122821Z"
    }
   },
   "id": "84dfc7474cdb4587"
  },
  {
   "cell_type": "code",
   "execution_count": 226,
   "outputs": [
    {
     "name": "stdout",
     "output_type": "stream",
     "text": [
      "[ 1.3017512   0.37756428  0.06435835  0.63407181  0.63753587 -1.85573584\n",
      "  2.29114991 -0.22661465 -0.50920366 -0.17967672 -0.3544377  -1.41844605\n",
      " -1.38862083 -1.26923601 -1.03349081  1.33578704 -1.44000958  2.35588601\n",
      " -0.28888303  0.70354925  0.06325437  0.36225803 -0.18113726 -0.06609842\n",
      " -0.45028719  0.09023218 -0.43457759  0.0170304   0.31240149  0.41449322\n",
      " -0.24500979 -0.38757705 -0.38837095  1.53613322]\n"
     ]
    }
   ],
   "source": [
    "print(X_train[0])"
   ],
   "metadata": {
    "collapsed": false,
    "ExecuteTime": {
     "end_time": "2023-10-29T23:31:15.275881Z",
     "start_time": "2023-10-29T23:31:15.214946Z"
    }
   },
   "id": "8733fdad006a53ac"
  },
  {
   "cell_type": "code",
   "execution_count": 226,
   "outputs": [],
   "source": [],
   "metadata": {
    "collapsed": false,
    "ExecuteTime": {
     "end_time": "2023-10-29T23:31:15.276315Z",
     "start_time": "2023-10-29T23:31:15.250754Z"
    }
   },
   "id": "20bee7f3c0ac62c6"
  }
 ],
 "metadata": {
  "kernelspec": {
   "display_name": "Python 3",
   "language": "python",
   "name": "python3"
  },
  "language_info": {
   "codemirror_mode": {
    "name": "ipython",
    "version": 2
   },
   "file_extension": ".py",
   "mimetype": "text/x-python",
   "name": "python",
   "nbconvert_exporter": "python",
   "pygments_lexer": "ipython2",
   "version": "2.7.6"
  }
 },
 "nbformat": 4,
 "nbformat_minor": 5
}
